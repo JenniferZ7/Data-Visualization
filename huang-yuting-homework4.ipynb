{
 "cells": [
  {
   "cell_type": "markdown",
   "id": "cbf747c3",
   "metadata": {},
   "source": [
    "## huang-yuting-homework4"
   ]
  },
  {
   "cell_type": "code",
   "execution_count": 340,
   "id": "63d7dcbf",
   "metadata": {},
   "outputs": [],
   "source": [
    "import matplotlib.pyplot as plt\n",
    "import matplotlib\n",
    "import numpy as np\n",
    "import pandas as pd\n",
    "import ipywidgets"
   ]
  },
  {
   "cell_type": "code",
   "execution_count": 341,
   "id": "757c438c",
   "metadata": {},
   "outputs": [],
   "source": [
    "ufo = pd.read_csv('https://github.com/UIUC-iSchool-DataViz/is445_spring2022/raw/master/week05/data/ufo-scrubbed-geocoded-time-standardized-00.csv',\n",
    "                 names = [\"date\", \"city\", \"state\", \"country\", \"shape\", \"duration_seconds\", \"duration\",\n",
    "                          \"comment\", \"report_date\", \"latitude\", \"longitude\"],\n",
    "                 parse_dates = [\"date\", \"report_date\"])"
   ]
  },
  {
   "cell_type": "code",
   "execution_count": 342,
   "id": "ccc95c79",
   "metadata": {},
   "outputs": [
    {
     "data": {
      "text/html": [
       "<div>\n",
       "<style scoped>\n",
       "    .dataframe tbody tr th:only-of-type {\n",
       "        vertical-align: middle;\n",
       "    }\n",
       "\n",
       "    .dataframe tbody tr th {\n",
       "        vertical-align: top;\n",
       "    }\n",
       "\n",
       "    .dataframe thead th {\n",
       "        text-align: right;\n",
       "    }\n",
       "</style>\n",
       "<table border=\"1\" class=\"dataframe\">\n",
       "  <thead>\n",
       "    <tr style=\"text-align: right;\">\n",
       "      <th></th>\n",
       "      <th>date</th>\n",
       "      <th>city</th>\n",
       "      <th>state</th>\n",
       "      <th>country</th>\n",
       "      <th>shape</th>\n",
       "      <th>duration_seconds</th>\n",
       "      <th>duration</th>\n",
       "      <th>comment</th>\n",
       "      <th>report_date</th>\n",
       "      <th>latitude</th>\n",
       "      <th>longitude</th>\n",
       "    </tr>\n",
       "  </thead>\n",
       "  <tbody>\n",
       "    <tr>\n",
       "      <th>0</th>\n",
       "      <td>1949-10-10 20:30:00</td>\n",
       "      <td>san marcos</td>\n",
       "      <td>tx</td>\n",
       "      <td>us</td>\n",
       "      <td>cylinder</td>\n",
       "      <td>2700.0</td>\n",
       "      <td>45 minutes</td>\n",
       "      <td>This event took place in early fall around 194...</td>\n",
       "      <td>2004-04-27</td>\n",
       "      <td>29.883056</td>\n",
       "      <td>-97.941111</td>\n",
       "    </tr>\n",
       "    <tr>\n",
       "      <th>1</th>\n",
       "      <td>1949-10-10 21:00:00</td>\n",
       "      <td>lackland afb</td>\n",
       "      <td>tx</td>\n",
       "      <td>NaN</td>\n",
       "      <td>light</td>\n",
       "      <td>7200.0</td>\n",
       "      <td>1-2 hrs</td>\n",
       "      <td>1949 Lackland AFB&amp;#44 TX.  Lights racing acros...</td>\n",
       "      <td>2005-12-16</td>\n",
       "      <td>29.384210</td>\n",
       "      <td>-98.581082</td>\n",
       "    </tr>\n",
       "    <tr>\n",
       "      <th>2</th>\n",
       "      <td>1955-10-10 17:00:00</td>\n",
       "      <td>chester (uk/england)</td>\n",
       "      <td>NaN</td>\n",
       "      <td>gb</td>\n",
       "      <td>circle</td>\n",
       "      <td>20.0</td>\n",
       "      <td>20 seconds</td>\n",
       "      <td>Green/Orange circular disc over Chester&amp;#44 En...</td>\n",
       "      <td>2008-01-21</td>\n",
       "      <td>53.200000</td>\n",
       "      <td>-2.916667</td>\n",
       "    </tr>\n",
       "    <tr>\n",
       "      <th>3</th>\n",
       "      <td>1956-10-10 21:00:00</td>\n",
       "      <td>edna</td>\n",
       "      <td>tx</td>\n",
       "      <td>us</td>\n",
       "      <td>circle</td>\n",
       "      <td>20.0</td>\n",
       "      <td>1/2 hour</td>\n",
       "      <td>My older brother and twin sister were leaving ...</td>\n",
       "      <td>2004-01-17</td>\n",
       "      <td>28.978333</td>\n",
       "      <td>-96.645833</td>\n",
       "    </tr>\n",
       "    <tr>\n",
       "      <th>4</th>\n",
       "      <td>1960-10-10 20:00:00</td>\n",
       "      <td>kaneohe</td>\n",
       "      <td>hi</td>\n",
       "      <td>us</td>\n",
       "      <td>light</td>\n",
       "      <td>900.0</td>\n",
       "      <td>15 minutes</td>\n",
       "      <td>AS a Marine 1st Lt. flying an FJ4B fighter/att...</td>\n",
       "      <td>2004-01-22</td>\n",
       "      <td>21.418056</td>\n",
       "      <td>-157.803611</td>\n",
       "    </tr>\n",
       "  </tbody>\n",
       "</table>\n",
       "</div>"
      ],
      "text/plain": [
       "                 date                  city state country     shape  \\\n",
       "0 1949-10-10 20:30:00            san marcos    tx      us  cylinder   \n",
       "1 1949-10-10 21:00:00          lackland afb    tx     NaN     light   \n",
       "2 1955-10-10 17:00:00  chester (uk/england)   NaN      gb    circle   \n",
       "3 1956-10-10 21:00:00                  edna    tx      us    circle   \n",
       "4 1960-10-10 20:00:00               kaneohe    hi      us     light   \n",
       "\n",
       "   duration_seconds    duration  \\\n",
       "0            2700.0  45 minutes   \n",
       "1            7200.0     1-2 hrs   \n",
       "2              20.0  20 seconds   \n",
       "3              20.0    1/2 hour   \n",
       "4             900.0  15 minutes   \n",
       "\n",
       "                                             comment report_date   latitude  \\\n",
       "0  This event took place in early fall around 194...  2004-04-27  29.883056   \n",
       "1  1949 Lackland AFB&#44 TX.  Lights racing acros...  2005-12-16  29.384210   \n",
       "2  Green/Orange circular disc over Chester&#44 En...  2008-01-21  53.200000   \n",
       "3  My older brother and twin sister were leaving ...  2004-01-17  28.978333   \n",
       "4  AS a Marine 1st Lt. flying an FJ4B fighter/att...  2004-01-22  21.418056   \n",
       "\n",
       "    longitude  \n",
       "0  -97.941111  \n",
       "1  -98.581082  \n",
       "2   -2.916667  \n",
       "3  -96.645833  \n",
       "4 -157.803611  "
      ]
     },
     "execution_count": 342,
     "metadata": {},
     "output_type": "execute_result"
    }
   ],
   "source": [
    "ufo.head()"
   ]
  },
  {
   "cell_type": "code",
   "execution_count": 343,
   "id": "e4ab5daa",
   "metadata": {},
   "outputs": [],
   "source": [
    "ufo = ufo.fillna({'country':'unknown',\n",
    "                  'state':'unknown', \n",
    "                  'shape':'unknown'})"
   ]
  },
  {
   "cell_type": "code",
   "execution_count": 344,
   "id": "1320dd03",
   "metadata": {},
   "outputs": [
    {
     "data": {
      "text/html": [
       "<div>\n",
       "<style scoped>\n",
       "    .dataframe tbody tr th:only-of-type {\n",
       "        vertical-align: middle;\n",
       "    }\n",
       "\n",
       "    .dataframe tbody tr th {\n",
       "        vertical-align: top;\n",
       "    }\n",
       "\n",
       "    .dataframe thead th {\n",
       "        text-align: right;\n",
       "    }\n",
       "</style>\n",
       "<table border=\"1\" class=\"dataframe\">\n",
       "  <thead>\n",
       "    <tr style=\"text-align: right;\">\n",
       "      <th></th>\n",
       "      <th>date</th>\n",
       "      <th>city</th>\n",
       "      <th>state</th>\n",
       "      <th>country</th>\n",
       "      <th>shape</th>\n",
       "      <th>duration_seconds</th>\n",
       "      <th>duration</th>\n",
       "      <th>comment</th>\n",
       "      <th>report_date</th>\n",
       "      <th>latitude</th>\n",
       "      <th>longitude</th>\n",
       "    </tr>\n",
       "  </thead>\n",
       "  <tbody>\n",
       "    <tr>\n",
       "      <th>0</th>\n",
       "      <td>1949-10-10 20:30:00</td>\n",
       "      <td>san marcos</td>\n",
       "      <td>tx</td>\n",
       "      <td>us</td>\n",
       "      <td>cylinder</td>\n",
       "      <td>2700.0</td>\n",
       "      <td>45 minutes</td>\n",
       "      <td>This event took place in early fall around 194...</td>\n",
       "      <td>2004-04-27</td>\n",
       "      <td>29.883056</td>\n",
       "      <td>-97.941111</td>\n",
       "    </tr>\n",
       "    <tr>\n",
       "      <th>1</th>\n",
       "      <td>1949-10-10 21:00:00</td>\n",
       "      <td>lackland afb</td>\n",
       "      <td>tx</td>\n",
       "      <td>unknown</td>\n",
       "      <td>light</td>\n",
       "      <td>7200.0</td>\n",
       "      <td>1-2 hrs</td>\n",
       "      <td>1949 Lackland AFB&amp;#44 TX.  Lights racing acros...</td>\n",
       "      <td>2005-12-16</td>\n",
       "      <td>29.384210</td>\n",
       "      <td>-98.581082</td>\n",
       "    </tr>\n",
       "    <tr>\n",
       "      <th>2</th>\n",
       "      <td>1955-10-10 17:00:00</td>\n",
       "      <td>chester (uk/england)</td>\n",
       "      <td>unknown</td>\n",
       "      <td>gb</td>\n",
       "      <td>circle</td>\n",
       "      <td>20.0</td>\n",
       "      <td>20 seconds</td>\n",
       "      <td>Green/Orange circular disc over Chester&amp;#44 En...</td>\n",
       "      <td>2008-01-21</td>\n",
       "      <td>53.200000</td>\n",
       "      <td>-2.916667</td>\n",
       "    </tr>\n",
       "    <tr>\n",
       "      <th>3</th>\n",
       "      <td>1956-10-10 21:00:00</td>\n",
       "      <td>edna</td>\n",
       "      <td>tx</td>\n",
       "      <td>us</td>\n",
       "      <td>circle</td>\n",
       "      <td>20.0</td>\n",
       "      <td>1/2 hour</td>\n",
       "      <td>My older brother and twin sister were leaving ...</td>\n",
       "      <td>2004-01-17</td>\n",
       "      <td>28.978333</td>\n",
       "      <td>-96.645833</td>\n",
       "    </tr>\n",
       "    <tr>\n",
       "      <th>4</th>\n",
       "      <td>1960-10-10 20:00:00</td>\n",
       "      <td>kaneohe</td>\n",
       "      <td>hi</td>\n",
       "      <td>us</td>\n",
       "      <td>light</td>\n",
       "      <td>900.0</td>\n",
       "      <td>15 minutes</td>\n",
       "      <td>AS a Marine 1st Lt. flying an FJ4B fighter/att...</td>\n",
       "      <td>2004-01-22</td>\n",
       "      <td>21.418056</td>\n",
       "      <td>-157.803611</td>\n",
       "    </tr>\n",
       "    <tr>\n",
       "      <th>...</th>\n",
       "      <td>...</td>\n",
       "      <td>...</td>\n",
       "      <td>...</td>\n",
       "      <td>...</td>\n",
       "      <td>...</td>\n",
       "      <td>...</td>\n",
       "      <td>...</td>\n",
       "      <td>...</td>\n",
       "      <td>...</td>\n",
       "      <td>...</td>\n",
       "      <td>...</td>\n",
       "    </tr>\n",
       "    <tr>\n",
       "      <th>80327</th>\n",
       "      <td>2013-09-09 21:15:00</td>\n",
       "      <td>nashville</td>\n",
       "      <td>tn</td>\n",
       "      <td>us</td>\n",
       "      <td>light</td>\n",
       "      <td>600.0</td>\n",
       "      <td>10 minutes</td>\n",
       "      <td>Round from the distance/slowly changing colors...</td>\n",
       "      <td>2013-09-30</td>\n",
       "      <td>36.165833</td>\n",
       "      <td>-86.784444</td>\n",
       "    </tr>\n",
       "    <tr>\n",
       "      <th>80328</th>\n",
       "      <td>2013-09-09 22:00:00</td>\n",
       "      <td>boise</td>\n",
       "      <td>id</td>\n",
       "      <td>us</td>\n",
       "      <td>circle</td>\n",
       "      <td>1200.0</td>\n",
       "      <td>20 minutes</td>\n",
       "      <td>Boise&amp;#44 ID&amp;#44 spherical&amp;#44 20 min&amp;#44 10 r...</td>\n",
       "      <td>2013-09-30</td>\n",
       "      <td>43.613611</td>\n",
       "      <td>-116.202500</td>\n",
       "    </tr>\n",
       "    <tr>\n",
       "      <th>80329</th>\n",
       "      <td>2013-09-09 22:00:00</td>\n",
       "      <td>napa</td>\n",
       "      <td>ca</td>\n",
       "      <td>us</td>\n",
       "      <td>other</td>\n",
       "      <td>1200.0</td>\n",
       "      <td>hour</td>\n",
       "      <td>Napa UFO&amp;#44</td>\n",
       "      <td>2013-09-30</td>\n",
       "      <td>38.297222</td>\n",
       "      <td>-122.284444</td>\n",
       "    </tr>\n",
       "    <tr>\n",
       "      <th>80330</th>\n",
       "      <td>2013-09-09 22:20:00</td>\n",
       "      <td>vienna</td>\n",
       "      <td>va</td>\n",
       "      <td>us</td>\n",
       "      <td>circle</td>\n",
       "      <td>5.0</td>\n",
       "      <td>5 seconds</td>\n",
       "      <td>Saw a five gold lit cicular craft moving fastl...</td>\n",
       "      <td>2013-09-30</td>\n",
       "      <td>38.901111</td>\n",
       "      <td>-77.265556</td>\n",
       "    </tr>\n",
       "    <tr>\n",
       "      <th>80331</th>\n",
       "      <td>2013-09-09 23:00:00</td>\n",
       "      <td>edmond</td>\n",
       "      <td>ok</td>\n",
       "      <td>us</td>\n",
       "      <td>cigar</td>\n",
       "      <td>1020.0</td>\n",
       "      <td>17 minutes</td>\n",
       "      <td>2 witnesses 2  miles apart&amp;#44 Red &amp;amp; White...</td>\n",
       "      <td>2013-09-30</td>\n",
       "      <td>35.652778</td>\n",
       "      <td>-97.477778</td>\n",
       "    </tr>\n",
       "  </tbody>\n",
       "</table>\n",
       "<p>80332 rows × 11 columns</p>\n",
       "</div>"
      ],
      "text/plain": [
       "                     date                  city    state  country     shape  \\\n",
       "0     1949-10-10 20:30:00            san marcos       tx       us  cylinder   \n",
       "1     1949-10-10 21:00:00          lackland afb       tx  unknown     light   \n",
       "2     1955-10-10 17:00:00  chester (uk/england)  unknown       gb    circle   \n",
       "3     1956-10-10 21:00:00                  edna       tx       us    circle   \n",
       "4     1960-10-10 20:00:00               kaneohe       hi       us     light   \n",
       "...                   ...                   ...      ...      ...       ...   \n",
       "80327 2013-09-09 21:15:00             nashville       tn       us     light   \n",
       "80328 2013-09-09 22:00:00                 boise       id       us    circle   \n",
       "80329 2013-09-09 22:00:00                  napa       ca       us     other   \n",
       "80330 2013-09-09 22:20:00                vienna       va       us    circle   \n",
       "80331 2013-09-09 23:00:00                edmond       ok       us     cigar   \n",
       "\n",
       "       duration_seconds    duration  \\\n",
       "0                2700.0  45 minutes   \n",
       "1                7200.0     1-2 hrs   \n",
       "2                  20.0  20 seconds   \n",
       "3                  20.0    1/2 hour   \n",
       "4                 900.0  15 minutes   \n",
       "...                 ...         ...   \n",
       "80327             600.0  10 minutes   \n",
       "80328            1200.0  20 minutes   \n",
       "80329            1200.0        hour   \n",
       "80330               5.0   5 seconds   \n",
       "80331            1020.0  17 minutes   \n",
       "\n",
       "                                                 comment report_date  \\\n",
       "0      This event took place in early fall around 194...  2004-04-27   \n",
       "1      1949 Lackland AFB&#44 TX.  Lights racing acros...  2005-12-16   \n",
       "2      Green/Orange circular disc over Chester&#44 En...  2008-01-21   \n",
       "3      My older brother and twin sister were leaving ...  2004-01-17   \n",
       "4      AS a Marine 1st Lt. flying an FJ4B fighter/att...  2004-01-22   \n",
       "...                                                  ...         ...   \n",
       "80327  Round from the distance/slowly changing colors...  2013-09-30   \n",
       "80328  Boise&#44 ID&#44 spherical&#44 20 min&#44 10 r...  2013-09-30   \n",
       "80329                                       Napa UFO&#44  2013-09-30   \n",
       "80330  Saw a five gold lit cicular craft moving fastl...  2013-09-30   \n",
       "80331  2 witnesses 2  miles apart&#44 Red &amp; White...  2013-09-30   \n",
       "\n",
       "        latitude   longitude  \n",
       "0      29.883056  -97.941111  \n",
       "1      29.384210  -98.581082  \n",
       "2      53.200000   -2.916667  \n",
       "3      28.978333  -96.645833  \n",
       "4      21.418056 -157.803611  \n",
       "...          ...         ...  \n",
       "80327  36.165833  -86.784444  \n",
       "80328  43.613611 -116.202500  \n",
       "80329  38.297222 -122.284444  \n",
       "80330  38.901111  -77.265556  \n",
       "80331  35.652778  -97.477778  \n",
       "\n",
       "[80332 rows x 11 columns]"
      ]
     },
     "execution_count": 344,
     "metadata": {},
     "output_type": "execute_result"
    }
   ],
   "source": [
    "ufo"
   ]
  },
  {
   "cell_type": "code",
   "execution_count": 345,
   "id": "78781cb0",
   "metadata": {},
   "outputs": [],
   "source": [
    "nsamples = 1000\n",
    "downSampleMask = np.random.choice(range(len(ufo)-1), nsamples, replace = False)"
   ]
  },
  {
   "cell_type": "code",
   "execution_count": 346,
   "id": "8259428e",
   "metadata": {},
   "outputs": [
    {
     "data": {
      "text/plain": [
       "array([59308, 53305, 48323, 58585,  4509, 78653, 75262, 35392,  3354,\n",
       "       47028, 46610, 64760, 57280, 37745, 79106, 71884, 60638, 60386,\n",
       "       30153, 59261, 23754,  6993, 10167, 51052, 47573, 61915, 36032,\n",
       "       29677, 54135, 67041, 29362, 68373, 44614, 45819, 35719, 19053,\n",
       "       74398, 54588, 44806, 67266,  8358, 19384, 74236, 34723, 35695,\n",
       "       68460, 57799, 33525, 11730, 21384, 70856, 67357, 20591, 62888,\n",
       "       59623, 55052, 15825, 25203, 46695,  4971,  7401, 63214, 63895,\n",
       "       35260, 33776, 75730, 18640, 15564, 12852,  4490, 54561, 65998,\n",
       "       33515, 80203, 59624, 40683, 76099, 64005, 43037, 47199, 51276,\n",
       "       37794, 67719, 76464, 53085, 72720, 56896, 34788, 13145, 35639,\n",
       "       38345, 37136, 66755,  2090, 55417, 55617, 49730, 40134, 46867,\n",
       "        2803,  9026, 18786, 23391, 50492, 64589, 55156, 34551, 27006,\n",
       "       66526, 72595, 58614, 32883, 49695, 59130,  2211, 43447, 40916,\n",
       "       36712, 22955,   843, 31172, 26836, 57133, 21079, 36877, 58502,\n",
       "       77518, 73188, 75382, 15357, 18114, 71475, 77882, 16601, 51180,\n",
       "       33384, 57669, 49780, 46583, 40500, 48436, 63787, 49984, 11516,\n",
       "       13963,  9076,  7340, 33824, 43823, 10320, 50065, 43125, 59829,\n",
       "       21693, 57029, 17267,  2877, 43502, 67800, 25066, 42114, 24873,\n",
       "       30376, 24977, 46777, 33441, 45759, 61190, 39758, 62399, 53406,\n",
       "       21227, 38656, 14143, 58873, 20490,   145, 14761, 72310, 73066,\n",
       "       59264,  7862, 27525, 58681, 54967, 15283, 59380, 20123, 36304,\n",
       "       24280, 32987,   278, 31976, 54357,  3909, 79841,  7114,  6922,\n",
       "       63702, 11090, 66740, 29835, 72290, 32508, 22604,  7958, 66013,\n",
       "       65191, 18027, 76970, 78467, 58405, 17093, 30544, 24702,  6189,\n",
       "       49163, 18734, 79752,  5709,  3495, 63791, 25256, 12943, 21783,\n",
       "       76128, 51842,  6247, 56822, 22776, 60600, 38466, 19640, 21343,\n",
       "       62550, 30221, 41009, 62381, 46435, 15673, 20800, 34925, 51481,\n",
       "       27282, 25022, 65647,  2650,  1248,  3981, 62913, 24993, 48359,\n",
       "       40594, 23726,  7572, 14894, 62465, 12819,   955, 27289, 30192,\n",
       "       50273, 38862, 74337, 72453, 54952, 47105, 33219, 63352, 39014,\n",
       "       46650, 20926, 21026, 42211, 78992,  9621, 28278, 65781, 68395,\n",
       "        4319, 67368, 18265, 17886, 31437, 67668, 17440, 71056, 55865,\n",
       "       77596, 54533, 37370, 75453, 37755, 38233, 54526, 63721, 33256,\n",
       "       52329, 66752, 52997, 46242, 67493, 45813, 40984, 49746, 28810,\n",
       "       50159, 30234,  5423, 32348, 20894, 35253,  6731, 63760, 39419,\n",
       "       36041, 51220,  4499, 45555, 67373, 64668, 55159, 26743, 22975,\n",
       "       41579, 25950, 51475, 33543, 56467, 33703, 24995, 74926, 45160,\n",
       "        2180, 67736, 71097, 21626, 66940, 78627, 55069, 50694, 57855,\n",
       "       70845, 61509, 38105, 55081, 12931, 40139, 32478, 47555, 59594,\n",
       "       60542, 76278, 56546, 71292, 23436, 21793, 67735, 13112, 10277,\n",
       "       21585, 71284,  4396, 13928, 59131, 76063, 52942, 22601, 17513,\n",
       "       67584,  9325, 38693, 34809, 26101, 22296, 79989, 47624, 50439,\n",
       "       45917, 63029, 27974, 40950, 56898, 31057, 62778, 45735, 68319,\n",
       "       42014,  8091, 61882, 73141, 50968,  1961, 15071, 59582,  2061,\n",
       "        9984, 26772, 20147, 44999, 64759, 29678, 24715, 71454,  4784,\n",
       "       74877, 69579, 45865, 28267, 67977, 10097, 49072, 29307, 79276,\n",
       "       67100, 28485, 53133, 46094, 54978, 24796, 22783, 53819, 41611,\n",
       "       20170, 27947, 49089, 12352, 67394, 38281, 10468, 25710, 57656,\n",
       "       65483, 57513, 35857, 69501, 61239, 56947, 10101,  5922, 28634,\n",
       "       43290, 75290, 32828, 30491, 53167, 63464, 63228, 57873, 62744,\n",
       "       66632, 10256,  4700, 45370, 38764, 61487, 77428, 15781, 39625,\n",
       "       32359, 17313, 36416, 71283, 68606, 78488, 37660, 35778, 38877,\n",
       "        1031, 45277, 21966, 44253,  9816,  7746, 20703, 62791, 65654,\n",
       "       23763, 53682, 24095, 39870, 73538, 34432, 42509, 33986,  1444,\n",
       "       63190, 48376,  8516, 69602, 53332, 50666, 54370, 39822, 78665,\n",
       "       46736, 63450, 64440, 80058,  7756, 79585, 67896, 26628, 70478,\n",
       "        2423, 74977, 24937, 52271, 38871, 39809, 38850, 42385, 33600,\n",
       "       55171, 26295, 24237, 43147, 38248, 21932, 63979, 11670, 25304,\n",
       "       27223, 45421, 76069, 35943, 41847, 21399, 18914, 59473, 56606,\n",
       "       72731, 57689, 56933, 17191, 41455, 57759,  6410, 51843,  1531,\n",
       "       17363, 69292, 65758,  7551, 46525, 18550, 11528,   393,  9948,\n",
       "       57185, 17929, 10316, 28289, 36311, 65663, 75661, 71606,  8183,\n",
       "       70798, 43931, 15106, 40243, 77887, 62352, 41275, 23354, 79834,\n",
       "       17807, 36122, 75082, 17605, 19362, 41432, 66685, 49306, 30974,\n",
       "       50667, 49334,  6752,  1210, 72119, 33987, 55321, 10790, 76681,\n",
       "       72406, 54277, 42096, 61343, 52448, 74284, 19292,  4171, 19323,\n",
       "       78900, 66789, 70528, 80145, 71817, 15311, 61441, 28269, 45263,\n",
       "       78933, 32163, 79916, 77886, 15627, 63668, 59939, 67001,  5612,\n",
       "       18266,  3555, 44888, 22618, 75248, 20774, 71559, 37605,    45,\n",
       "       17753, 55814, 26303, 11776,  8379, 69760, 70505, 42590, 49607,\n",
       "       13228, 47136, 56762, 29097, 27485, 29629, 12593, 32550, 31335,\n",
       "       77272, 47235, 52389,  2357, 25557, 50510,  9234, 52132, 33031,\n",
       "       79894, 35181, 37334, 48128, 61307,  5460, 30195, 10303, 27001,\n",
       "       57064, 30900,  7323, 61022, 31381,  5699, 11579, 46116,  7534,\n",
       "       76998, 77553, 29271, 58174, 27326, 52928, 13055, 16568,  6229,\n",
       "       65351, 49385, 38864, 66424, 12300, 69849, 50138, 59848, 41136,\n",
       "       44449, 46967, 12438, 49575, 62645, 38772, 77976, 59328,  4897,\n",
       "       21830, 12271, 42614, 75919, 21386, 29799, 48435, 69955, 52686,\n",
       "       14978, 41308,  9522, 39915, 36434, 32823, 20964, 27263, 66765,\n",
       "       42123, 56085, 52357, 22145, 48366, 10614, 40493,  5405,  6164,\n",
       "       76470, 26727, 16699, 73434, 53045, 74814, 29801, 77349, 73221,\n",
       "       44284, 14346, 46739, 24945, 64752,  7480, 27581,  3694, 25199,\n",
       "       24538, 29783, 77136, 19242, 69112,  8390, 46568, 28286, 80019,\n",
       "       24925, 42525, 72677, 56888, 22875, 38824, 58862, 18098, 23680,\n",
       "       13523, 18818, 44433, 40682, 49861, 25577, 73014, 15763, 74704,\n",
       "       22463, 76341, 79605, 53604, 37330,  4210, 27355, 65458, 16737,\n",
       "       55668, 54835,  9215, 57447, 36107, 38516,   883, 32609, 20962,\n",
       "       19252, 19620, 20236, 45976,  2192, 68393, 14714, 45147, 66598,\n",
       "       47351, 50759, 64584, 79464,  6166, 77197, 76644,  3350, 13888,\n",
       "       15504, 73802, 78471,   874, 73220, 27647, 58510,   188, 71862,\n",
       "       33177, 54095, 20446, 43116, 35442, 27366, 76864, 55397, 41017,\n",
       "       40993, 44138, 36467, 22605,  1967, 28180, 32549, 17600, 52040,\n",
       "       56757, 76814, 58397,  8274, 53897, 26495, 36299, 14477, 49210,\n",
       "       46004, 43623,  3594, 12187, 66540, 69144, 22464, 38303, 32173,\n",
       "       74680, 11657, 55677, 29923, 56105, 22946, 11619,  1994, 22627,\n",
       "       65026, 64254, 58932, 69038, 48048, 44677, 60659, 53531, 30321,\n",
       "       18459, 63671,   534, 59238, 40716,   717, 12401, 39807, 19960,\n",
       "       29352, 17403, 53064, 33678, 16969, 67079, 68911, 41100, 51854,\n",
       "       30595, 49077, 23576, 76813, 40690, 47091, 69934,  7475, 61336,\n",
       "       31971,  5710, 74062,  7535, 49297, 58675, 19995, 45358, 72749,\n",
       "       61986, 26230, 34780, 31133, 53202,  4244, 37866, 68327, 36149,\n",
       "       29215, 39300,   487, 55753, 13015, 78914, 38218, 10193,   621,\n",
       "       43005, 67465, 76611, 63446,  8891, 54914, 44417, 38071, 36977,\n",
       "       44168, 66180,  7093, 42173, 40613, 58024, 39566, 66124, 19591,\n",
       "       68331, 10187, 71142, 71542, 11561, 38945, 14072, 18535, 28659,\n",
       "       27878, 60817, 62747,  5246, 69971, 16501, 73555, 15967, 44831,\n",
       "       15871,  8405, 42775, 47733, 10127, 11756, 58539, 79083, 37041,\n",
       "        3761,  2869, 41327, 70831, 39654, 41323, 21538, 63241, 42240,\n",
       "       30156, 13048, 39525, 46394, 23470, 14735, 11905, 72286, 54223,\n",
       "       25001, 72619, 54811,  4382, 59418, 17210, 50239, 61979,  2002,\n",
       "       38918, 41638, 79205, 73574, 16235, 38650, 71735, 56351, 47707,\n",
       "       58261])"
      ]
     },
     "execution_count": 346,
     "metadata": {},
     "output_type": "execute_result"
    }
   ],
   "source": [
    "downSampleMask"
   ]
  },
  {
   "cell_type": "code",
   "execution_count": 347,
   "id": "6163e3ed",
   "metadata": {},
   "outputs": [],
   "source": [
    "ufoDS = ufo.loc[downSampleMask]"
   ]
  },
  {
   "cell_type": "code",
   "execution_count": 348,
   "id": "8b84272f",
   "metadata": {},
   "outputs": [
    {
     "data": {
      "text/html": [
       "<div>\n",
       "<style scoped>\n",
       "    .dataframe tbody tr th:only-of-type {\n",
       "        vertical-align: middle;\n",
       "    }\n",
       "\n",
       "    .dataframe tbody tr th {\n",
       "        vertical-align: top;\n",
       "    }\n",
       "\n",
       "    .dataframe thead th {\n",
       "        text-align: right;\n",
       "    }\n",
       "</style>\n",
       "<table border=\"1\" class=\"dataframe\">\n",
       "  <thead>\n",
       "    <tr style=\"text-align: right;\">\n",
       "      <th></th>\n",
       "      <th>date</th>\n",
       "      <th>city</th>\n",
       "      <th>state</th>\n",
       "      <th>country</th>\n",
       "      <th>shape</th>\n",
       "      <th>duration_seconds</th>\n",
       "      <th>duration</th>\n",
       "      <th>comment</th>\n",
       "      <th>report_date</th>\n",
       "      <th>latitude</th>\n",
       "      <th>longitude</th>\n",
       "    </tr>\n",
       "  </thead>\n",
       "  <tbody>\n",
       "    <tr>\n",
       "      <th>59308</th>\n",
       "      <td>2011-07-23 19:20:00</td>\n",
       "      <td>houston</td>\n",
       "      <td>tx</td>\n",
       "      <td>us</td>\n",
       "      <td>fireball</td>\n",
       "      <td>1200.0</td>\n",
       "      <td>20 minutes</td>\n",
       "      <td>Orange Orb/Ball near Downtown Houston.</td>\n",
       "      <td>2012-08-19</td>\n",
       "      <td>29.763056</td>\n",
       "      <td>-95.363056</td>\n",
       "    </tr>\n",
       "    <tr>\n",
       "      <th>53305</th>\n",
       "      <td>2000-06-03 23:30:00</td>\n",
       "      <td>new york city (brooklyn)</td>\n",
       "      <td>ny</td>\n",
       "      <td>us</td>\n",
       "      <td>chevron</td>\n",
       "      <td>3600.0</td>\n",
       "      <td>1 hour</td>\n",
       "      <td>Satellites searching area before and after   2...</td>\n",
       "      <td>2000-07-11</td>\n",
       "      <td>40.714167</td>\n",
       "      <td>-74.006389</td>\n",
       "    </tr>\n",
       "    <tr>\n",
       "      <th>48323</th>\n",
       "      <td>2011-06-13 02:00:00</td>\n",
       "      <td>bay city</td>\n",
       "      <td>mi</td>\n",
       "      <td>us</td>\n",
       "      <td>unknown</td>\n",
       "      <td>3000.0</td>\n",
       "      <td>30-50 minutes</td>\n",
       "      <td>Very bright white light low over Saginaw Bay&amp;#...</td>\n",
       "      <td>2011-06-20</td>\n",
       "      <td>43.594444</td>\n",
       "      <td>-83.888889</td>\n",
       "    </tr>\n",
       "    <tr>\n",
       "      <th>58585</th>\n",
       "      <td>2006-07-21 01:20:00</td>\n",
       "      <td>vancouver</td>\n",
       "      <td>wa</td>\n",
       "      <td>us</td>\n",
       "      <td>disk</td>\n",
       "      <td>3600.0</td>\n",
       "      <td>nearly an hour</td>\n",
       "      <td>Saucer like object with clear red &amp;amp; blue l...</td>\n",
       "      <td>2006-10-30</td>\n",
       "      <td>45.638889</td>\n",
       "      <td>-122.660278</td>\n",
       "    </tr>\n",
       "    <tr>\n",
       "      <th>4509</th>\n",
       "      <td>2006-10-25 18:00:00</td>\n",
       "      <td>tokyo (japan)</td>\n",
       "      <td>unknown</td>\n",
       "      <td>unknown</td>\n",
       "      <td>light</td>\n",
       "      <td>120.0</td>\n",
       "      <td>2 mins</td>\n",
       "      <td>Noticed strange cloud moving across Tokyo Sky ...</td>\n",
       "      <td>2007-02-01</td>\n",
       "      <td>35.689488</td>\n",
       "      <td>139.691706</td>\n",
       "    </tr>\n",
       "    <tr>\n",
       "      <th>...</th>\n",
       "      <td>...</td>\n",
       "      <td>...</td>\n",
       "      <td>...</td>\n",
       "      <td>...</td>\n",
       "      <td>...</td>\n",
       "      <td>...</td>\n",
       "      <td>...</td>\n",
       "      <td>...</td>\n",
       "      <td>...</td>\n",
       "      <td>...</td>\n",
       "      <td>...</td>\n",
       "    </tr>\n",
       "    <tr>\n",
       "      <th>38650</th>\n",
       "      <td>2004-04-23 19:30:00</td>\n",
       "      <td>coram</td>\n",
       "      <td>ny</td>\n",
       "      <td>us</td>\n",
       "      <td>triangle</td>\n",
       "      <td>120.0</td>\n",
       "      <td>2min</td>\n",
       "      <td>While driving on a neighborhood road on the wa...</td>\n",
       "      <td>2004-05-04</td>\n",
       "      <td>40.868611</td>\n",
       "      <td>-73.001944</td>\n",
       "    </tr>\n",
       "    <tr>\n",
       "      <th>71735</th>\n",
       "      <td>2012-08-05 22:28:00</td>\n",
       "      <td>ashby</td>\n",
       "      <td>mn</td>\n",
       "      <td>us</td>\n",
       "      <td>light</td>\n",
       "      <td>300.0</td>\n",
       "      <td>5 minutes</td>\n",
       "      <td>A star like object moves across the sky at sup...</td>\n",
       "      <td>2012-08-19</td>\n",
       "      <td>46.093056</td>\n",
       "      <td>-95.817222</td>\n",
       "    </tr>\n",
       "    <tr>\n",
       "      <th>56351</th>\n",
       "      <td>2010-07-14 13:00:00</td>\n",
       "      <td>englewood</td>\n",
       "      <td>co</td>\n",
       "      <td>us</td>\n",
       "      <td>oval</td>\n",
       "      <td>540.0</td>\n",
       "      <td>9 min</td>\n",
       "      <td>I think about this almost every day and how lu...</td>\n",
       "      <td>2012-07-04</td>\n",
       "      <td>39.647778</td>\n",
       "      <td>-104.987222</td>\n",
       "    </tr>\n",
       "    <tr>\n",
       "      <th>47707</th>\n",
       "      <td>1998-06-01 18:00:00</td>\n",
       "      <td>denmark</td>\n",
       "      <td>sc</td>\n",
       "      <td>us</td>\n",
       "      <td>triangle</td>\n",
       "      <td>300.0</td>\n",
       "      <td>5  min.</td>\n",
       "      <td>Triangle shape object&amp;#44 black with light wit...</td>\n",
       "      <td>2006-02-14</td>\n",
       "      <td>33.322500</td>\n",
       "      <td>-81.142500</td>\n",
       "    </tr>\n",
       "    <tr>\n",
       "      <th>58261</th>\n",
       "      <td>1998-07-20 14:00:00</td>\n",
       "      <td>sydney (canada)</td>\n",
       "      <td>ns</td>\n",
       "      <td>ca</td>\n",
       "      <td>sphere</td>\n",
       "      <td>900.0</td>\n",
       "      <td>15mins</td>\n",
       "      <td>Floating shining sphere in Sydney Nova Scotia</td>\n",
       "      <td>2005-05-24</td>\n",
       "      <td>46.150000</td>\n",
       "      <td>-60.166667</td>\n",
       "    </tr>\n",
       "  </tbody>\n",
       "</table>\n",
       "<p>1000 rows × 11 columns</p>\n",
       "</div>"
      ],
      "text/plain": [
       "                     date                      city    state  country  \\\n",
       "59308 2011-07-23 19:20:00                   houston       tx       us   \n",
       "53305 2000-06-03 23:30:00  new york city (brooklyn)       ny       us   \n",
       "48323 2011-06-13 02:00:00                  bay city       mi       us   \n",
       "58585 2006-07-21 01:20:00                 vancouver       wa       us   \n",
       "4509  2006-10-25 18:00:00             tokyo (japan)  unknown  unknown   \n",
       "...                   ...                       ...      ...      ...   \n",
       "38650 2004-04-23 19:30:00                     coram       ny       us   \n",
       "71735 2012-08-05 22:28:00                     ashby       mn       us   \n",
       "56351 2010-07-14 13:00:00                 englewood       co       us   \n",
       "47707 1998-06-01 18:00:00                   denmark       sc       us   \n",
       "58261 1998-07-20 14:00:00           sydney (canada)       ns       ca   \n",
       "\n",
       "          shape  duration_seconds        duration  \\\n",
       "59308  fireball            1200.0      20 minutes   \n",
       "53305   chevron            3600.0          1 hour   \n",
       "48323   unknown            3000.0   30-50 minutes   \n",
       "58585      disk            3600.0  nearly an hour   \n",
       "4509      light             120.0          2 mins   \n",
       "...         ...               ...             ...   \n",
       "38650  triangle             120.0            2min   \n",
       "71735     light             300.0       5 minutes   \n",
       "56351      oval             540.0           9 min   \n",
       "47707  triangle             300.0         5  min.   \n",
       "58261    sphere             900.0          15mins   \n",
       "\n",
       "                                                 comment report_date  \\\n",
       "59308             Orange Orb/Ball near Downtown Houston.  2012-08-19   \n",
       "53305  Satellites searching area before and after   2...  2000-07-11   \n",
       "48323  Very bright white light low over Saginaw Bay&#...  2011-06-20   \n",
       "58585  Saucer like object with clear red &amp; blue l...  2006-10-30   \n",
       "4509   Noticed strange cloud moving across Tokyo Sky ...  2007-02-01   \n",
       "...                                                  ...         ...   \n",
       "38650  While driving on a neighborhood road on the wa...  2004-05-04   \n",
       "71735  A star like object moves across the sky at sup...  2012-08-19   \n",
       "56351  I think about this almost every day and how lu...  2012-07-04   \n",
       "47707  Triangle shape object&#44 black with light wit...  2006-02-14   \n",
       "58261      Floating shining sphere in Sydney Nova Scotia  2005-05-24   \n",
       "\n",
       "        latitude   longitude  \n",
       "59308  29.763056  -95.363056  \n",
       "53305  40.714167  -74.006389  \n",
       "48323  43.594444  -83.888889  \n",
       "58585  45.638889 -122.660278  \n",
       "4509   35.689488  139.691706  \n",
       "...          ...         ...  \n",
       "38650  40.868611  -73.001944  \n",
       "71735  46.093056  -95.817222  \n",
       "56351  39.647778 -104.987222  \n",
       "47707  33.322500  -81.142500  \n",
       "58261  46.150000  -60.166667  \n",
       "\n",
       "[1000 rows x 11 columns]"
      ]
     },
     "execution_count": 348,
     "metadata": {},
     "output_type": "execute_result"
    }
   ],
   "source": [
    "ufoDS #using this dataset for plotting"
   ]
  },
  {
   "cell_type": "markdown",
   "id": "849d0389",
   "metadata": {},
   "source": [
    "## 1. Allows the user to change the x and y fields on a scatter plot from the UFO dataset.  Here the \"fields\" are the names of the columns in the dataset.  (Do you want the user to be able to pick any 2 columns?  Or only certain columns?  Why or why not?). You must support the selection of at least 1 categorical column and at least 1 numerical column in for each of x and y.  Note: you don't have to support both axis having a categorical variable (unless you really want to!)."
   ]
  },
  {
   "cell_type": "code",
   "execution_count": 349,
   "id": "c7f9889d",
   "metadata": {},
   "outputs": [],
   "source": [
    "def ufo_xy(x, y, take_log = True):\n",
    "    if take_log:\n",
    "        log = np.log10(ufoDS['duration_seconds'])\n",
    "    else:\n",
    "        log = ufoDS['duration_seconds']\n",
    "    plt.scatter(ufoDS[x], ufoDS[y], c = log ,cmap='rainbow')\n",
    "    plt.show()\n"
   ]
  },
  {
   "cell_type": "code",
   "execution_count": 350,
   "id": "6d9613a1",
   "metadata": {},
   "outputs": [
    {
     "data": {
      "image/png": "[encoded data removed]",
      "text/plain": [
       "<Figure size 432x288 with 1 Axes>"
      ]
     },
     "metadata": {
      "needs_background": "light"
     },
     "output_type": "display_data"
    }
   ],
   "source": [
    "ufo_xy('country', 'latitude')"
   ]
  },
  {
   "cell_type": "code",
   "execution_count": 351,
   "id": "e033d83e",
   "metadata": {},
   "outputs": [
    {
     "data": {
      "text/plain": [
       "Index(['date', 'city', 'state', 'country', 'shape', 'duration_seconds',\n",
       "       'duration', 'comment', 'report_date', 'latitude', 'longitude'],\n",
       "      dtype='object')"
      ]
     },
     "execution_count": 351,
     "metadata": {},
     "output_type": "execute_result"
    }
   ],
   "source": [
    "ufoDS.columns"
   ]
  },
  {
   "cell_type": "code",
   "execution_count": 352,
   "id": "f167e0c2",
   "metadata": {},
   "outputs": [
    {
     "data": {
      "text/plain": [
       "date                datetime64[ns]\n",
       "city                        object\n",
       "state                       object\n",
       "country                     object\n",
       "shape                       object\n",
       "duration_seconds           float64\n",
       "duration                    object\n",
       "comment                     object\n",
       "report_date         datetime64[ns]\n",
       "latitude                   float64\n",
       "longitude                  float64\n",
       "dtype: object"
      ]
     },
     "execution_count": 352,
     "metadata": {},
     "output_type": "execute_result"
    }
   ],
   "source": [
    "ufoDS.dtypes"
   ]
  },
  {
   "cell_type": "code",
   "execution_count": 353,
   "id": "8f80e8dc",
   "metadata": {},
   "outputs": [],
   "source": [
    "ufoDS.select_dtypes?"
   ]
  },
  {
   "cell_type": "code",
   "execution_count": 354,
   "id": "e54db0b1",
   "metadata": {},
   "outputs": [
    {
     "data": {
      "application/vnd.jupyter.widget-view+json": {
       "model_id": "0c9005d3fd5d447ba3e0a23bbd2b49d2",
       "version_major": 2,
       "version_minor": 0
      },
      "text/plain": [
       "Dropdown(description='Select a categorical column:', options=('date', 'city', 'state', 'country', 'shape', 'du…"
      ]
     },
     "metadata": {},
     "output_type": "display_data"
    }
   ],
   "source": [
    "# Reference: https://towardsdatascience.com/interactive-controls-for-jupyter-notebooks-f5c94829aee6\n",
    "# select_dtyles function\n",
    "# Reference: https://vimsky.com/examples/usage/python-pandas-dataframe-select_dtypes.html\n",
    "# include, exclude functions\n",
    "# x-widgets is designed for choosing categorical variables by using select_dtypes\n",
    "x = ipywidgets.Dropdown(options = list(ufoDS.select_dtypes(exclude='number').columns), description = 'Select a categorical column:')\n",
    "x"
   ]
  },
  {
   "cell_type": "code",
   "execution_count": 355,
   "id": "76eb2bb1",
   "metadata": {},
   "outputs": [
    {
     "data": {
      "application/vnd.jupyter.widget-view+json": {
       "model_id": "0c9005d3fd5d447ba3e0a23bbd2b49d2",
       "version_major": 2,
       "version_minor": 0
      },
      "text/plain": [
       "Dropdown(description='Select a categorical column:', options=('date', 'city', 'state', 'country', 'shape', 'du…"
      ]
     },
     "metadata": {},
     "output_type": "display_data"
    }
   ],
   "source": [
    "x.style.description_width = 'initial'\n",
    "x"
   ]
  },
  {
   "cell_type": "code",
   "execution_count": 356,
   "id": "9d749adf",
   "metadata": {
    "scrolled": true
   },
   "outputs": [
    {
     "data": {
      "application/vnd.jupyter.widget-view+json": {
       "model_id": "3b6c51e944d949f0a915686e50cef3a7",
       "version_major": 2,
       "version_minor": 0
      },
      "text/plain": [
       "Dropdown(description='Select a numerical column:', options=('duration_seconds', 'latitude', 'longitude'), valu…"
      ]
     },
     "metadata": {},
     "output_type": "display_data"
    }
   ],
   "source": [
    "# y-widgets is designed for choosing numerical variables by using select_dtypes\n",
    "y = ipywidgets.Dropdown(options = list(ufoDS.select_dtypes(include='number').columns), description = 'Select a numerical column:')\n",
    "y"
   ]
  },
  {
   "cell_type": "code",
   "execution_count": 357,
   "id": "951bc93f",
   "metadata": {
    "scrolled": true
   },
   "outputs": [
    {
     "data": {
      "application/vnd.jupyter.widget-view+json": {
       "model_id": "3b6c51e944d949f0a915686e50cef3a7",
       "version_major": 2,
       "version_minor": 0
      },
      "text/plain": [
       "Dropdown(description='Select a numerical column:', options=('duration_seconds', 'latitude', 'longitude'), styl…"
      ]
     },
     "metadata": {},
     "output_type": "display_data"
    }
   ],
   "source": [
    "y.style.description_width = 'initial'\n",
    "y"
   ]
  },
  {
   "cell_type": "code",
   "execution_count": 358,
   "id": "09adfbee",
   "metadata": {},
   "outputs": [
    {
     "data": {
      "application/vnd.jupyter.widget-view+json": {
       "model_id": "f563e0f66b1f4e7ea669e29338c640d2",
       "version_major": 2,
       "version_minor": 0
      },
      "text/plain": [
       "VBox(children=(Dropdown(description='Select a categorical column:', options=('date', 'city', 'state', 'country…"
      ]
     },
     "metadata": {},
     "output_type": "display_data"
    }
   ],
   "source": [
    "ipywidgets.VBox([x, y])"
   ]
  },
  {
   "cell_type": "code",
   "execution_count": 359,
   "id": "ef02e7fe",
   "metadata": {},
   "outputs": [],
   "source": [
    "def ufo_xy(x, y):\n",
    "    with plt.style.context('ggplot'):\n",
    "        fig = plt.figure(figsize=(8, 4))\n",
    "    #if take_log:\n",
    "        #log = np.log10(ufoDS['duration_seconds'])\n",
    "    #else:\n",
    "        #log = ufo['duration_seconds']\n",
    "        #plt.scatter(x = ufoDS[x], y = ufoDS[y], c = log ,s = 20,cmap = 'rainbow')\n",
    "        plt.scatter(x = ufoDS[x], y = ufoDS[y],c =np.log10(ufoDS['duration_seconds'])  ,s = 20,cmap = 'rainbow')\n",
    "        plt.xlabel(x.capitalize())\n",
    "        plt.ylabel(y.capitalize())\n",
    "        plt.title(\"%s vs %s\"%(x.capitalize(), y.capitalize()))\n",
    "        plt.show()"
   ]
  },
  {
   "cell_type": "code",
   "execution_count": 360,
   "id": "a8a48abe",
   "metadata": {},
   "outputs": [],
   "source": [
    "#References: https://coderzcolumn.com/tutorials/data-science/interactive-charts-using-matplotlib-and-ipywidgets\n",
    "# the interactive_output function helps to combine the ufo_xy, x, and y ipywidgets.\n",
    "out = ipywidgets.interactive_output(ufo_xy, {'x': x, 'y':y})"
   ]
  },
  {
   "cell_type": "code",
   "execution_count": 361,
   "id": "017a640e",
   "metadata": {
    "scrolled": true
   },
   "outputs": [
    {
     "data": {
      "application/vnd.jupyter.widget-view+json": {
       "model_id": "a722d9556bea46cf89983680ac6db641",
       "version_major": 2,
       "version_minor": 0
      },
      "text/plain": [
       "HBox(children=(VBox(children=(Dropdown(description='Select a categorical column:', options=('date', 'city', 's…"
      ]
     },
     "metadata": {},
     "output_type": "display_data"
    }
   ],
   "source": [
    "ipywidgets.HBox([ipywidgets.VBox([x, y]), out])"
   ]
  },
  {
   "cell_type": "code",
   "execution_count": 362,
   "id": "b9622e57",
   "metadata": {
    "scrolled": true
   },
   "outputs": [
    {
     "data": {
      "application/vnd.jupyter.widget-view+json": {
       "model_id": "773dd4913f7546adbcf85e98317fe147",
       "version_major": 2,
       "version_minor": 0
      },
      "text/plain": [
       "VBox(children=(HBox(children=(Dropdown(description='Select a categorical column:', options=('date', 'city', 's…"
      ]
     },
     "metadata": {},
     "output_type": "display_data"
    }
   ],
   "source": [
    "#I use HBox first, then use VBox. Becuase the ipywidgets are blocked by the graph\n",
    "ipywidgets.VBox([ipywidgets.HBox([x, y]), out])"
   ]
  },
  {
   "cell_type": "markdown",
   "id": "899ff351",
   "metadata": {},
   "source": [
    "### 1. writeup\n",
    "I want the user would be able to choose any two columns. One is a categorical column and another one is a numerical column. First, I use the select_dytpes function to check if there is a numerical data type and then separate all columns into two groups. Next, I define the ufo_xy function to plot the scatter with the interactive_output function. The interactive_output function helps to connect the ufo_xy function, x, and y ipywidgets. Then, I use VBox and HBox to change the display."
   ]
  },
  {
   "cell_type": "markdown",
   "id": "5119fa71",
   "metadata": {},
   "source": [
    "## 2. Allows the user to pick their colormap.  In class we used the log of the duration in seconds as our color scaling, you can use this or something else (or if you *really* want to get fancy you can let the user decide by using a widget!). Hint: for some ideas about how to add in a colormap widget, check out the extra notes on the Michigan depth map from this week and last week."
   ]
  },
  {
   "cell_type": "code",
   "execution_count": 363,
   "id": "60f7b4f0",
   "metadata": {},
   "outputs": [],
   "source": [
    "#def ufo_xy(x, y, take_log = True):\n",
    "def ufo_plot(x, y, style, color_map):\n",
    "    with plt.style.context(style):\n",
    "        fig = plt.figure(figsize=(10, 10))\n",
    "    #if take_log:\n",
    "        #log = np.log10(ufoDS['duration_seconds'])\n",
    "    #else:\n",
    "        #log = ufo['duration_seconds']\n",
    "        #plt.scatter(x = ufoDS[x], y = ufoDS[y], c = log ,s = 20,cmap = 'rainbow')\n",
    "        plt.scatter(x = ufoDS[x], y = ufoDS[y] ,c = np.log(ufoDS['duration_seconds']),s = 200,cmap = color_map)\n",
    "        plt.xlabel(x.capitalize())\n",
    "        plt.ylabel(y.capitalize())\n",
    "        #plt.imshow(X = ufoDS, cmap= colormap_name)\n",
    "        plt.title(\"%s vs %s\"%(x.capitalize(), y.capitalize()))\n",
    "        plt.show()"
   ]
  },
  {
   "cell_type": "code",
   "execution_count": 364,
   "id": "3fb6f304",
   "metadata": {},
   "outputs": [
    {
     "data": {
      "application/vnd.jupyter.widget-view+json": {
       "model_id": "8cf2598873e04a2f90218821e52c26b2",
       "version_major": 2,
       "version_minor": 0
      },
      "text/plain": [
       "Dropdown(description='Select a style:', options=('Solarize_Light2', '_classic_test_patch', 'bmh', 'classic', '…"
      ]
     },
     "metadata": {},
     "output_type": "display_data"
    }
   ],
   "source": [
    "style_widgets = ipywidgets.Dropdown(options = plt.style.available, description = 'Select a style:')\n",
    "style_widgets"
   ]
  },
  {
   "cell_type": "code",
   "execution_count": 365,
   "id": "b89216f6",
   "metadata": {},
   "outputs": [
    {
     "data": {
      "application/vnd.jupyter.widget-view+json": {
       "model_id": "8cf2598873e04a2f90218821e52c26b2",
       "version_major": 2,
       "version_minor": 0
      },
      "text/plain": [
       "Dropdown(description='Select a style:', options=('Solarize_Light2', '_classic_test_patch', 'bmh', 'classic', '…"
      ]
     },
     "metadata": {},
     "output_type": "display_data"
    }
   ],
   "source": [
    "style_widgets.style.description_width = 'initial'\n",
    "style_widgets"
   ]
  },
  {
   "cell_type": "code",
   "execution_count": 366,
   "id": "0c17d4c6",
   "metadata": {},
   "outputs": [
    {
     "data": {
      "application/vnd.jupyter.widget-view+json": {
       "model_id": "4541632d576b4cbe940b8e7e66916f27",
       "version_major": 2,
       "version_minor": 0
      },
      "text/plain": [
       "Dropdown(description='Select a color map', options=('Accent', 'Accent_r', 'Blues', 'Blues_r', 'BrBG', 'BrBG_r'…"
      ]
     },
     "metadata": {},
     "output_type": "display_data"
    }
   ],
   "source": [
    "color_map = ipywidgets.Dropdown(options = plt.colormaps(), description = 'Select a color map')\n",
    "color_map"
   ]
  },
  {
   "cell_type": "code",
   "execution_count": 367,
   "id": "83f92ecc",
   "metadata": {},
   "outputs": [
    {
     "data": {
      "application/vnd.jupyter.widget-view+json": {
       "model_id": "4541632d576b4cbe940b8e7e66916f27",
       "version_major": 2,
       "version_minor": 0
      },
      "text/plain": [
       "Dropdown(description='Select a color map', options=('Accent', 'Accent_r', 'Blues', 'Blues_r', 'BrBG', 'BrBG_r'…"
      ]
     },
     "metadata": {},
     "output_type": "display_data"
    }
   ],
   "source": [
    "color_map.style.description_width = 'initial'\n",
    "color_map"
   ]
  },
  {
   "cell_type": "code",
   "execution_count": 368,
   "id": "24395f17",
   "metadata": {},
   "outputs": [],
   "source": [
    "out2 = ipywidgets.interactive_output(ufo_plot, {'x': x, 'y':y, 'style':style_widgets, 'color_map':color_map})"
   ]
  },
  {
   "cell_type": "code",
   "execution_count": 369,
   "id": "4b4b91e1",
   "metadata": {},
   "outputs": [
    {
     "data": {
      "application/vnd.jupyter.widget-view+json": {
       "model_id": "79ca6b12a44a4820a8bc628248b9df44",
       "version_major": 2,
       "version_minor": 0
      },
      "text/plain": [
       "VBox(children=(Dropdown(description='Select a categorical column:', options=('date', 'city', 'state', 'country…"
      ]
     },
     "metadata": {},
     "output_type": "display_data"
    }
   ],
   "source": [
    "#ipywidgets.HBox([ipywidgets.VBox([x, y, color_widgets]), out2])\n",
    "ipywidgets.VBox([x, y, style_widgets,color_map, out2])\n"
   ]
  },
  {
   "attachments": {},
   "cell_type": "markdown",
   "id": "9af0158c",
   "metadata": {},
   "source": [
    "### 2. writeup\n",
    "For question 2, I define the ufo_plot function first. I was trying to incorporate the condition clause of the log, but it did not work. Therefore, I took off the log condition and put the log in the plt.scatter function. I design four variables into the ufo_plot function. X is used for the categorical column, y is used for the numerical column, style is used for choosing plot style and color_map is used for picking colormap. I put the style variable into function because I was confused about the differences in style and colormap. This would help me remember what is style and colormap. Next, I use VBox to display the sequences of ipywidgets and the scatter plot."
   ]
  },
  {
   "cell_type": "markdown",
   "id": "5646c059",
   "metadata": {},
   "source": [
    "## 3. \n",
    "1. The field to \"bin\".  (Do you want the user to be able to pick any 2 columns?  Or only certain columns?  Why or why not?). You must support the selection of at least 1 categorical column and at least 1 numerical column.\n",
    "2. For numerical variables: The number of bins."
   ]
  },
  {
   "cell_type": "code",
   "execution_count": 370,
   "id": "e5a8bfbb",
   "metadata": {},
   "outputs": [
    {
     "data": {
      "application/vnd.jupyter.widget-view+json": {
       "model_id": "52a3b165d1094cca80da4f167c867366",
       "version_major": 2,
       "version_minor": 0
      },
      "text/plain": [
       "Dropdown(options=('date', 'city', 'state', 'country', 'shape', 'duration_seconds', 'duration', 'comment', 'rep…"
      ]
     },
     "metadata": {},
     "output_type": "display_data"
    }
   ],
   "source": [
    "# design xy for picking the first column\n",
    "xy = ipywidgets.Dropdown(options = list(ufoDS.columns))\n",
    "xy"
   ]
  },
  {
   "cell_type": "code",
   "execution_count": 371,
   "id": "7f754e0e",
   "metadata": {},
   "outputs": [
    {
     "data": {
      "application/vnd.jupyter.widget-view+json": {
       "model_id": "f6bf7eb1b3034809b3da81731a0a73b6",
       "version_major": 2,
       "version_minor": 0
      },
      "text/plain": [
       "Dropdown(options=('date', 'city', 'state', 'country', 'shape', 'duration_seconds', 'duration', 'comment', 'rep…"
      ]
     },
     "metadata": {},
     "output_type": "display_data"
    }
   ],
   "source": [
    "# design xy2 for picking the second column at the same time\n",
    "xy2 = ipywidgets.Dropdown(options = list(ufoDS.columns))\n",
    "xy2"
   ]
  },
  {
   "cell_type": "code",
   "execution_count": 372,
   "id": "39cdb474",
   "metadata": {},
   "outputs": [],
   "source": [
    "# change the bin numbers\n",
    "bin_number = ipywidgets.IntSlider(min = 1, max = 50, step = 1)"
   ]
  },
  {
   "cell_type": "code",
   "execution_count": 373,
   "id": "12d2b862",
   "metadata": {
    "scrolled": true
   },
   "outputs": [
    {
     "data": {
      "application/vnd.jupyter.widget-view+json": {
       "model_id": "4f8528b64a1b462f9d8fdbe419710974",
       "version_major": 2,
       "version_minor": 0
      },
      "text/plain": [
       "IntSlider(value=1, max=50, min=1)"
      ]
     },
     "metadata": {},
     "output_type": "display_data"
    }
   ],
   "source": [
    "bin_number"
   ]
  },
  {
   "cell_type": "code",
   "execution_count": 374,
   "id": "9abcd410",
   "metadata": {},
   "outputs": [
    {
     "data": {
      "text/plain": [
       "['duration_seconds', 'latitude', 'longitude']"
      ]
     },
     "execution_count": 374,
     "metadata": {},
     "output_type": "execute_result"
    }
   ],
   "source": [
    "# make a numerical variable list \n",
    "num_list = list(ufoDS.select_dtypes(include=['float64']).columns)\n",
    "num_list"
   ]
  },
  {
   "cell_type": "code",
   "execution_count": 375,
   "id": "90fc257e",
   "metadata": {},
   "outputs": [
    {
     "data": {
      "text/plain": [
       "['date',\n",
       " 'city',\n",
       " 'state',\n",
       " 'country',\n",
       " 'shape',\n",
       " 'duration',\n",
       " 'comment',\n",
       " 'report_date']"
      ]
     },
     "execution_count": 375,
     "metadata": {},
     "output_type": "execute_result"
    }
   ],
   "source": [
    "# make a categorical variable list\n",
    "cate_list = list(ufoDS.select_dtypes(exclude=['float64']).columns)\n",
    "cate_list"
   ]
  },
  {
   "cell_type": "code",
   "execution_count": 376,
   "id": "bbb5afbc",
   "metadata": {},
   "outputs": [],
   "source": [
    "def ufo_binplot(xy, bin_number):\n",
    "    plt.clf()\n",
    "    fig, ax = plt.subplots(figsize=(10,10))\n",
    "    if xy in num_list:\n",
    "        ufoDS.hist(column=xy, ax=ax, bins = bin_number)\n",
    "    else:\n",
    "        plt.bar(xy, height = 4, data = ufoDS, color = 'blue', log = True)\n",
    "    plt.show()"
   ]
  },
  {
   "cell_type": "code",
   "execution_count": 377,
   "id": "7653527b",
   "metadata": {},
   "outputs": [],
   "source": [
    "out3 = ipywidgets.interactive_output(ufo_binplot, {'xy':xy, 'bin_number':bin_number})"
   ]
  },
  {
   "cell_type": "code",
   "execution_count": 379,
   "id": "eecab76b",
   "metadata": {},
   "outputs": [
    {
     "data": {
      "application/vnd.jupyter.widget-view+json": {
       "model_id": "332edee388b343b4afd3430c1beabe15",
       "version_major": 2,
       "version_minor": 0
      },
      "text/plain": [
       "VBox(children=(Dropdown(index=9, options=('date', 'city', 'state', 'country', 'shape', 'duration_seconds', 'du…"
      ]
     },
     "metadata": {},
     "output_type": "display_data"
    }
   ],
   "source": [
    "ipywidgets.VBox([xy,bin_number, out3])"
   ]
  },
  {
   "cell_type": "code",
   "execution_count": 380,
   "id": "50976e0a",
   "metadata": {},
   "outputs": [],
   "source": [
    "# for the reference\n",
    "# this function is built for only numerical column and test the bin_number ipywidget works\n",
    "def ufo_binplot1(y, bin_number):\n",
    "    plt.clf()\n",
    "    fig, ax = plt.subplots(figsize=(10,10))\n",
    "    ufoDS.hist(column=y, ax=ax, bins = bin_number)\n",
    "    plt.show()"
   ]
  },
  {
   "cell_type": "code",
   "execution_count": 381,
   "id": "2b8aa72c",
   "metadata": {},
   "outputs": [],
   "source": [
    "out4 = ipywidgets.interactive_output(ufo_binplot1, {'y':y, 'bin_number':bin_number})"
   ]
  },
  {
   "cell_type": "code",
   "execution_count": 383,
   "id": "0e81d29f",
   "metadata": {
    "scrolled": true
   },
   "outputs": [
    {
     "data": {
      "application/vnd.jupyter.widget-view+json": {
       "model_id": "eeff4597b7de4d1c82d1e3049fe318eb",
       "version_major": 2,
       "version_minor": 0
      },
      "text/plain": [
       "VBox(children=(Dropdown(description='Select a numerical column:', index=1, options=('duration_seconds', 'latit…"
      ]
     },
     "metadata": {},
     "output_type": "display_data"
    }
   ],
   "source": [
    "ipywidgets.VBox([y,bin_number, out4])"
   ]
  },
  {
   "attachments": {},
   "cell_type": "markdown",
   "id": "53975826",
   "metadata": {},
   "source": [
    "### 3. writeup\n",
    "I design the ufo_binplot function for the user to pick any column, but it only allows pick one in one time. Because I did not find the method to pick two columns at the same time.\n",
    "\n",
    "xy ipywidget. -> user can pick any column\n",
    "xy2 ipywidget. -> user can pick any column\n",
    "bin_number ipywidget. -> user can choose the number of bins\n",
    "num_list. -> list of numerical columns\n",
    "cate_list. -> list of categorical columns\n",
    "\n",
    "I designed the xy and xy2 ipywidgets for picking two columns and used belowed codes:\n",
    "\n",
    "If xy in num_list:\n",
    "\tufoDS.hist(column=xy, ax=ax, bins = bin_number)\n",
    "    if xy2 in cate_list: \n",
    "\t\tplt.bar(xy2, height = 4, data = ufoDS, color = 'blue', log = True)\n",
    "elif xy in cate_list:\n",
    "\tplt.bar(xy, height = 4, data = ufoDS, color = 'blue', log = True)\n",
    "\tif xy2 in num_list:\n",
    " \t\tufoDS.hist(column=xy2, ax=ax, bins = bin_number)\n",
    "\n",
    "The above code did not work, so I only design a function for picking any one column.\n",
    "Also, when I run the ipywidgets.VBox function several times, it would have blank plots. I use the ufo_binplot1 function for reference. This function is built for the numerical column.\n",
    "\n"
   ]
  },
  {
   "cell_type": "code",
   "execution_count": null,
   "id": "1ec22e2b",
   "metadata": {},
   "outputs": [],
   "source": []
  }
 ],
 "metadata": {
  "kernelspec": {
   "display_name": "Python 3 (ipykernel)",
   "language": "python",
   "name": "python3"
  },
  "language_info": {
   "codemirror_mode": {
    "name": "ipython",
    "version": 3
   },
   "file_extension": ".py",
   "mimetype": "text/x-python",
   "name": "python",
   "nbconvert_exporter": "python",
   "pygments_lexer": "ipython3",
   "version": "3.7.12"
  }
 },
 "nbformat": 4,
 "nbformat_minor": 5
}
